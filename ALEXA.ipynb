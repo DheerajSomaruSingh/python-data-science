{
 "cells": [
  {
   "cell_type": "code",
   "execution_count": 3,
   "id": "fca88b4e",
   "metadata": {},
   "outputs": [
    {
     "name": "stdout",
     "output_type": "stream",
     "text": [
      "hi\n"
     ]
    }
   ],
   "source": [
    "print(\"hi\")"
   ]
  },
  {
   "cell_type": "code",
   "execution_count": 4,
   "id": "421802be",
   "metadata": {
    "scrolled": true
   },
   "outputs": [
    {
     "name": "stdout",
     "output_type": "stream",
     "text": [
      "Microphone with name \"Microsoft Sound Mapper - Input\" found for `Microphone(device_index=0)`\n",
      "Microphone with name \"Microphone Array (Intel® Smart \" found for `Microphone(device_index=1)`\n",
      "Microphone with name \"Headset (Mivi DuoPods A350)\" found for `Microphone(device_index=2)`\n",
      "Microphone with name \"Microsoft Sound Mapper - Output\" found for `Microphone(device_index=3)`\n",
      "Microphone with name \"Headphones (Mivi DuoPods A350)\" found for `Microphone(device_index=4)`\n",
      "Microphone with name \"Speaker (Realtek(R) Audio)\" found for `Microphone(device_index=5)`\n",
      "Microphone with name \"Primary Sound Capture Driver\" found for `Microphone(device_index=6)`\n",
      "Microphone with name \"Microphone Array (Intel® Smart Sound Technology for Digital Microphones)\" found for `Microphone(device_index=7)`\n",
      "Microphone with name \"Headset (Mivi DuoPods A350)\" found for `Microphone(device_index=8)`\n",
      "Microphone with name \"Primary Sound Driver\" found for `Microphone(device_index=9)`\n",
      "Microphone with name \"Headphones (Mivi DuoPods A350)\" found for `Microphone(device_index=10)`\n",
      "Microphone with name \"Speaker (Realtek(R) Audio)\" found for `Microphone(device_index=11)`\n",
      "Microphone with name \"Speaker (Realtek(R) Audio)\" found for `Microphone(device_index=12)`\n",
      "Microphone with name \"Headphones (Mivi DuoPods A350)\" found for `Microphone(device_index=13)`\n",
      "Microphone with name \"Microphone Array (Intel® Smart Sound Technology for Digital Microphones)\" found for `Microphone(device_index=14)`\n",
      "Microphone with name \"Headset (Mivi DuoPods A350)\" found for `Microphone(device_index=15)`\n",
      "Microphone with name \"Microphone (Realtek HD Audio Mic input)\" found for `Microphone(device_index=16)`\n",
      "Microphone with name \"Headphones 1 (Realtek HD Audio 2nd output with SST)\" found for `Microphone(device_index=17)`\n",
      "Microphone with name \"Headphones 2 (Realtek HD Audio 2nd output with SST)\" found for `Microphone(device_index=18)`\n",
      "Microphone with name \"PC Speaker (Realtek HD Audio 2nd output with SST)\" found for `Microphone(device_index=19)`\n",
      "Microphone with name \"Speakers 1 (Realtek HD Audio output with SST)\" found for `Microphone(device_index=20)`\n",
      "Microphone with name \"Speakers 2 (Realtek HD Audio output with SST)\" found for `Microphone(device_index=21)`\n",
      "Microphone with name \"PC Speaker (Realtek HD Audio output with SST)\" found for `Microphone(device_index=22)`\n",
      "Microphone with name \"Stereo Mix (Realtek HD Audio Stereo input)\" found for `Microphone(device_index=23)`\n",
      "Microphone with name \"Headset (@System32\\drivers\\bthhfenum.sys,#2;%1 Hands-Free%0\r\n",
      ";(OnePlus Bullets Wireless Z2))\" found for `Microphone(device_index=24)`\n",
      "Microphone with name \"Headset (@System32\\drivers\\bthhfenum.sys,#2;%1 Hands-Free%0\r\n",
      ";(OnePlus Bullets Wireless Z2))\" found for `Microphone(device_index=25)`\n",
      "Microphone with name \"Microphone Array 1 (Intel® Smart Sound Technology DMIC Microphone)\" found for `Microphone(device_index=26)`\n",
      "Microphone with name \"Microphone Array 2 (Intel® Smart Sound Technology DMIC Microphone)\" found for `Microphone(device_index=27)`\n",
      "Microphone with name \"Microphone Array 3 (Intel® Smart Sound Technology DMIC Microphone)\" found for `Microphone(device_index=28)`\n",
      "Microphone with name \"Headset (@System32\\drivers\\bthhfenum.sys,#2;%1 Hands-Free%0\r\n",
      ";(boAt Stone 170))\" found for `Microphone(device_index=29)`\n",
      "Microphone with name \"Headset (@System32\\drivers\\bthhfenum.sys,#2;%1 Hands-Free%0\r\n",
      ";(boAt Stone 170))\" found for `Microphone(device_index=30)`\n",
      "Microphone with name \"Headphones ()\" found for `Microphone(device_index=31)`\n",
      "Microphone with name \"Headset (@System32\\drivers\\bthhfenum.sys,#2;%1 Hands-Free%0\r\n",
      ";(Mivi DuoPods A350))\" found for `Microphone(device_index=32)`\n",
      "Microphone with name \"Headset (@System32\\drivers\\bthhfenum.sys,#2;%1 Hands-Free%0\r\n",
      ";(Mivi DuoPods A350))\" found for `Microphone(device_index=33)`\n",
      "Microphone with name \"Headphones ()\" found for `Microphone(device_index=34)`\n",
      "Microphone with name \"Headset (@System32\\drivers\\bthhfenum.sys,#2;%1 Hands-Free%0\r\n",
      ";(boAt Rockerz 510))\" found for `Microphone(device_index=35)`\n",
      "Microphone with name \"Headset (@System32\\drivers\\bthhfenum.sys,#2;%1 Hands-Free%0\r\n",
      ";(boAt Rockerz 510))\" found for `Microphone(device_index=36)`\n",
      "Microphone with name \"Headphones ()\" found for `Microphone(device_index=37)`\n",
      "Microphone with name \"Headphones ()\" found for `Microphone(device_index=38)`\n",
      "Microphone with name \"Headset (@System32\\drivers\\bthhfenum.sys,#2;%1 Hands-Free%0\r\n",
      ";(NIRVANAA 751ANC))\" found for `Microphone(device_index=39)`\n",
      "Microphone with name \"Headset (@System32\\drivers\\bthhfenum.sys,#2;%1 Hands-Free%0\r\n",
      ";(NIRVANAA 751ANC))\" found for `Microphone(device_index=40)`\n",
      "Microphone with name \"Headset (@System32\\drivers\\bthhfenum.sys,#2;%1 Hands-Free%0\r\n",
      ";(trüke Buds S1))\" found for `Microphone(device_index=41)`\n",
      "Microphone with name \"Headset (@System32\\drivers\\bthhfenum.sys,#2;%1 Hands-Free%0\r\n",
      ";(trüke Buds S1))\" found for `Microphone(device_index=42)`\n",
      "Microphone with name \"Headphones ()\" found for `Microphone(device_index=43)`\n",
      "Microphone with name \"Headset (@System32\\drivers\\bthhfenum.sys,#2;%1 Hands-Free%0\r\n",
      ";(Stone 1200))\" found for `Microphone(device_index=44)`\n",
      "Microphone with name \"Headset (@System32\\drivers\\bthhfenum.sys,#2;%1 Hands-Free%0\r\n",
      ";(Stone 1200))\" found for `Microphone(device_index=45)`\n",
      "Microphone with name \"Headphones ()\" found for `Microphone(device_index=46)`\n",
      "Microphone with name \"Headphones ()\" found for `Microphone(device_index=47)`\n",
      "Microphone with name \"Headset (@System32\\drivers\\bthhfenum.sys,#2;%1 Hands-Free%0\r\n",
      ";(Mivi  Moonstone))\" found for `Microphone(device_index=48)`\n",
      "Microphone with name \"Headset (@System32\\drivers\\bthhfenum.sys,#2;%1 Hands-Free%0\r\n",
      ";(Mivi  Moonstone))\" found for `Microphone(device_index=49)`\n",
      "Microphone with name \"Headphones ()\" found for `Microphone(device_index=50)`\n"
     ]
    }
   ],
   "source": [
    "import speech_recognition as sr\n",
    "for index, name in enumerate(sr.Microphone.list_microphone_names()):\n",
    "    print(\"Microphone with name \\\"{1}\\\" found for `Microphone(device_index={0})`\".format(index, name))"
   ]
  },
  {
   "cell_type": "code",
   "execution_count": 56,
   "id": "362eeb99",
   "metadata": {},
   "outputs": [],
   "source": [
    "#very efficient tools i have seen\n",
    "import pywhatkit\n",
    "# Send an Image to a Contact with the no Caption \n",
    "pywhatkit.sendwhats_image(\"+917455956807\", \"C:/Users/DHEERAJ/OneDrive/Documents/study-material/web-dev/dd.JPG\")\n"
   ]
  },
  {
   "cell_type": "code",
   "execution_count": null,
   "id": "9388a8c9",
   "metadata": {},
   "outputs": [],
   "source": [
    "#very efficient tools i have seen\n",
    "import pywhatkit\n",
    "\n",
    "# Send a WhatsApp Message to a Contact at 1:30 PM\n",
    "pywhatkit.sendwhatmsg(\"+910123456789\", \"Hi\", 13, 30)\n",
    "\n",
    "# Same as above but Closes the Tab in 2 Seconds after Sending the Message\n",
    "pywhatkit.sendwhatmsg(\"+910123456789\", \"Hi\", 13, 30, 15, True, 2)\n",
    "\n",
    "# Send an Image to a Group with the Caption as Hello\n",
    "pywhatkit.sendwhats_image(\"AB123CDEFGHijklmn\", \"Images/Hello.png\", \"Hello\")\n",
    "\n",
    "# Send an Image to a Contact with the no Caption\n",
    "pywhatkit.sendwhats_image(\"+910123456789\", \"Images/Hello.png\")\n",
    "\n",
    "# Send a WhatsApp Message to a Group at 12:00 AM\n",
    "pywhatkit.sendwhatmsg_to_group(\"AB123CDEFGHijklmn\", \"Hey All!\", 0, 0)\n",
    "\n",
    "# Send a WhatsApp Message to a Group instantly\n",
    "pywhatkit.sendwhatmsg_to_group_instantly(\"AB123CDEFGHijklmn\", \"Hey All!\")\n",
    "\n",
    "# Play a Video on YouTube\n",
    "pywhatkit.playonyt(\"PyWhatKit\")"
   ]
  },
  {
   "cell_type": "code",
   "execution_count": 8,
   "id": "f3c91c3c",
   "metadata": {},
   "outputs": [
    {
     "name": "stdout",
     "output_type": "stream",
     "text": [
      "125\n"
     ]
    }
   ],
   "source": [
    "#text to speech use it its really feeels good\n",
    "\n",
    "import pyttsx3\n",
    "engine = pyttsx3.init()\n",
    "#rate of voice\n",
    "rate = engine.getProperty('rate')   # getting details of current speaking rate\n",
    "print (rate)                        #printing current voice rate\n",
    "engine.setProperty('rate', 125)     # setting up new voice rate\n",
    "engine.say(\"wake up to reality\")\n",
    "engine.runAndWait()"
   ]
  },
  {
   "cell_type": "code",
   "execution_count": 6,
   "id": "4d23d8a3",
   "metadata": {
    "scrolled": true
   },
   "outputs": [
    {
     "name": "stdout",
     "output_type": "stream",
     "text": [
      "listening::::\n",
      "result2:\n",
      "[]\n"
     ]
    },
    {
     "ename": "UnboundLocalError",
     "evalue": "local variable 'command' referenced before assignment",
     "output_type": "error",
     "traceback": [
      "\u001b[1;31m---------------------------------------------------------------------------\u001b[0m",
      "\u001b[1;31mUnboundLocalError\u001b[0m                         Traceback (most recent call last)",
      "\u001b[1;32m~\\AppData\\Local\\Temp/ipykernel_20392/418165715.py\u001b[0m in \u001b[0;36m<module>\u001b[1;34m\u001b[0m\n\u001b[0;32m     78\u001b[0m \u001b[1;32mwhile\u001b[0m \u001b[1;32mTrue\u001b[0m\u001b[1;33m:\u001b[0m\u001b[1;33m\u001b[0m\u001b[1;33m\u001b[0m\u001b[0m\n\u001b[0;32m     79\u001b[0m     \u001b[1;32mif\u001b[0m\u001b[1;33m(\u001b[0m\u001b[1;32mTrue\u001b[0m\u001b[1;33m)\u001b[0m\u001b[1;33m:\u001b[0m\u001b[1;33m\u001b[0m\u001b[1;33m\u001b[0m\u001b[0m\n\u001b[1;32m---> 80\u001b[1;33m         \u001b[0mrun_alexa\u001b[0m\u001b[1;33m(\u001b[0m\u001b[1;33m)\u001b[0m\u001b[1;33m\u001b[0m\u001b[1;33m\u001b[0m\u001b[0m\n\u001b[0m\u001b[0;32m     81\u001b[0m     \u001b[1;32melse\u001b[0m\u001b[1;33m:\u001b[0m\u001b[1;33m\u001b[0m\u001b[1;33m\u001b[0m\u001b[0m\n\u001b[0;32m     82\u001b[0m         \u001b[1;32mcontinue\u001b[0m\u001b[1;33m\u001b[0m\u001b[1;33m\u001b[0m\u001b[0m\n",
      "\u001b[1;32m~\\AppData\\Local\\Temp/ipykernel_20392/418165715.py\u001b[0m in \u001b[0;36mrun_alexa\u001b[1;34m()\u001b[0m\n\u001b[0;32m     34\u001b[0m \u001b[1;33m\u001b[0m\u001b[0m\n\u001b[0;32m     35\u001b[0m \u001b[1;32mdef\u001b[0m \u001b[0mrun_alexa\u001b[0m\u001b[1;33m(\u001b[0m\u001b[1;33m)\u001b[0m\u001b[1;33m:\u001b[0m\u001b[1;33m\u001b[0m\u001b[1;33m\u001b[0m\u001b[0m\n\u001b[1;32m---> 36\u001b[1;33m     \u001b[0mcommand\u001b[0m \u001b[1;33m=\u001b[0m \u001b[0mtake_command\u001b[0m\u001b[1;33m(\u001b[0m\u001b[1;33m)\u001b[0m\u001b[1;33m\u001b[0m\u001b[1;33m\u001b[0m\u001b[0m\n\u001b[0m\u001b[0;32m     37\u001b[0m     \u001b[1;32mif\u001b[0m\u001b[1;34m'play'\u001b[0m \u001b[1;32min\u001b[0m \u001b[0mcommand\u001b[0m\u001b[1;33m:\u001b[0m\u001b[1;33m\u001b[0m\u001b[1;33m\u001b[0m\u001b[0m\n\u001b[0;32m     38\u001b[0m         \u001b[0msong\u001b[0m \u001b[1;33m=\u001b[0m \u001b[0mcommand\u001b[0m\u001b[1;33m.\u001b[0m\u001b[0mreplace\u001b[0m\u001b[1;33m(\u001b[0m\u001b[1;34m'play'\u001b[0m\u001b[1;33m,\u001b[0m\u001b[1;34m''\u001b[0m\u001b[1;33m)\u001b[0m\u001b[1;33m\u001b[0m\u001b[1;33m\u001b[0m\u001b[0m\n",
      "\u001b[1;32m~\\AppData\\Local\\Temp/ipykernel_20392/418165715.py\u001b[0m in \u001b[0;36mtake_command\u001b[1;34m()\u001b[0m\n\u001b[0;32m     31\u001b[0m     \u001b[1;32mexcept\u001b[0m\u001b[1;33m:\u001b[0m\u001b[1;33m\u001b[0m\u001b[1;33m\u001b[0m\u001b[0m\n\u001b[0;32m     32\u001b[0m         \u001b[1;32mpass\u001b[0m\u001b[1;33m\u001b[0m\u001b[1;33m\u001b[0m\u001b[0m\n\u001b[1;32m---> 33\u001b[1;33m     \u001b[1;32mreturn\u001b[0m \u001b[0mcommand\u001b[0m\u001b[1;33m\u001b[0m\u001b[1;33m\u001b[0m\u001b[0m\n\u001b[0m\u001b[0;32m     34\u001b[0m \u001b[1;33m\u001b[0m\u001b[0m\n\u001b[0;32m     35\u001b[0m \u001b[1;32mdef\u001b[0m \u001b[0mrun_alexa\u001b[0m\u001b[1;33m(\u001b[0m\u001b[1;33m)\u001b[0m\u001b[1;33m:\u001b[0m\u001b[1;33m\u001b[0m\u001b[1;33m\u001b[0m\u001b[0m\n",
      "\u001b[1;31mUnboundLocalError\u001b[0m: local variable 'command' referenced before assignment"
     ]
    }
   ],
   "source": [
    "import speech_recognition as sr\n",
    "import pyttsx3\n",
    "import pywhatkit\n",
    "import datetime\n",
    "import wikipedia\n",
    "import pyjokes\n",
    "\n",
    "listener = sr.Recognizer()\n",
    "engine = pyttsx3.init()\n",
    "voices = engine.getProperty('voices')\n",
    "engine.setProperty('voice',voices[1].id)\n",
    "\n",
    "def talk(text):\n",
    "    engine.say(text)\n",
    "    engine.runAndWait()\n",
    "\n",
    "engine.say(\"OH OK I AM AWAKE! WHAT THE WORK?\")\n",
    "engine.runAndWait()\n",
    "def take_command():\n",
    "    try:\n",
    "        with sr.Microphone() as source:\n",
    "            print(\"listening::::\")\n",
    "            voice = listener.listen(source)\n",
    "            command = listener.recognize_google(voice)\n",
    "            command = command.lower()\n",
    "            if \"alexa\" in command:\n",
    "                #the be;low line is to take out alexa from sentence\n",
    "                command = command.replace('alexa','')\n",
    "                #print(command)\n",
    "                #talk(command)\n",
    "    except:\n",
    "        pass\n",
    "    return command\n",
    "\n",
    "def run_alexa():\n",
    "    command = take_command()\n",
    "    if'play' in command:\n",
    "        song = command.replace('play','')\n",
    "        talk('playing' + song)\n",
    "        print(command)\n",
    "        print(song)\n",
    "        pywhatkit.playonyt(song)\n",
    "    elif 'time' in command:\n",
    "        time = datetime.datetime.now().strftime('%I:%M:%S %p')\n",
    "        print(time)\n",
    "        talk(\"current time is\" + time)\n",
    "    elif 'tell me about' in command:\n",
    "        person = command.replace('tell me about','')\n",
    "        info = wikipedia.summary(person,1)\n",
    "        print(info)\n",
    "        talk(info)\n",
    "    elif 'who is' in command:\n",
    "        person = command.replace('who is','')\n",
    "        info = wikipedia.summary(person,1)\n",
    "        print(info)\n",
    "        talk(info)\n",
    "    elif 'wikipedia' in command:\n",
    "        person = command.replace('wikipedia','')\n",
    "        info = wikipedia.summary(person,5)\n",
    "        print(info)\n",
    "        talk(info)\n",
    "    elif 'wanna go on date' in command:\n",
    "        talk('sorry i am in a relationship with wifi')\n",
    "        \n",
    "    elif 'are you single' in command:\n",
    "        talk('sorry i am in a relationship with data')\n",
    "        \n",
    "    elif 'tell me a joke' in command:\n",
    "        info = pyjokes.get_joke()\n",
    "        print(info)\n",
    "        talk(info)\n",
    "    else:\n",
    "        print('say the command again')\n",
    "    \n",
    "while True:   \n",
    "    if(True):\n",
    "        run_alexa()\n",
    "    else:\n",
    "        continue"
   ]
  },
  {
   "cell_type": "code",
   "execution_count": null,
   "id": "7bebf214",
   "metadata": {},
   "outputs": [],
   "source": [
    "import pyttsx3\n",
    "engine = pyttsx3.init()\n",
    "voices = engine.getProperty('voices')\n",
    "engine.setProperty('voice',voices[1].id)\n",
    "engine.say(\"MACHIDA\")\n",
    "engine.runAndWait()"
   ]
  },
  {
   "cell_type": "code",
   "execution_count": null,
   "id": "07235015",
   "metadata": {},
   "outputs": [],
   "source": []
  },
  {
   "cell_type": "code",
   "execution_count": null,
   "id": "315824f3",
   "metadata": {},
   "outputs": [],
   "source": []
  }
 ],
 "metadata": {
  "kernelspec": {
   "display_name": "Python 3 (ipykernel)",
   "language": "python",
   "name": "python3"
  },
  "language_info": {
   "codemirror_mode": {
    "name": "ipython",
    "version": 3
   },
   "file_extension": ".py",
   "mimetype": "text/x-python",
   "name": "python",
   "nbconvert_exporter": "python",
   "pygments_lexer": "ipython3",
   "version": "3.9.7"
  }
 },
 "nbformat": 4,
 "nbformat_minor": 5
}
